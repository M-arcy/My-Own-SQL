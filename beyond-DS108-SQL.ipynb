{
 "cells": [
  {
   "cell_type": "markdown",
   "id": "d46d3428-9075-4c2d-aa65-68519290b7c9",
   "metadata": {},
   "source": [
    "### Table of Contents <a class=\"anchor\" id=\"DS102L2_toc\"></a>\n",
    "\n",
    "* [Table of Contents](#DS102L2_toc)\n",
    "    * [Page 1 - Introduction](#DS102L2_page_1)\n",
    "    * [Page 2 - What is SQL and what is an IDE or Editor?](#DS102L2_page_2)\n",
    "    * [Page 3 - Tips and Tricks in MySQL](#DS102L2_page_3)\n",
    "    * [Page 4 - Other IDEs for SQL](#DS102L2_page_4)\n",
    "    * [Page 5 - Using MySQL to View ER Diagram](#DS102L2_page_5)\n",
    "    * [Page 6 - The R Console](#DS102L2_page_6)\n",
    "    * [Page 7 - R Script Files](#DS102L2_page_7)\n",
    "    * [Page 8 - Comments](#DS102L2_page_8)\n",
    "    * [Page 9 - Finding Documentation and Help in R](#DS102L2_page_9)\n",
    "    * [Page 10 - Key Terms](#DS102L2_page_10)\n",
    "    * [Page 11 - Lesson 2 Exam](#DS102L2_page_11)"
   ]
  },
  {
   "cell_type": "markdown",
   "id": "1f8b71c9-1092-49ec-975f-143834703f02",
   "metadata": {},
   "source": [
    "<hr style=\"height:10px;border-width:0;color:gray;background-color:teal\">\n",
    "\n",
    "# Page 1 - Introduction <a class=\"anchor\" id=\"DS102L2_page_1\"></a>\n",
    "\n",
    "[Back to Top](#DS102L2_toc)\n",
    "\n",
    "<hr style=\"height:10px;border-width:0;color: gray;background-color:teal\">"
   ]
  },
  {
   "cell_type": "markdown",
   "id": "e19d8319-fa8b-4cc6-b2ec-4618a028b900",
   "metadata": {},
   "source": [
    "So far you've learned basic queries in SQL. This portion goes beyond the basic queries you've learned. Now you'll learn more about filtering and returning more complex queries using a different database. "
   ]
  },
  {
   "cell_type": "markdown",
   "id": "d945d2ce-e0a5-4d92-a3fd-9658b1d22e7a",
   "metadata": {},
   "source": [
    "### Installing customers Database"
   ]
  },
  {
   "cell_type": "markdown",
   "id": "3787251f-50f3-47d5-a6ac-c57582a6a320",
   "metadata": {},
   "source": [
    "This course requires the sample database provided by MySQL called **classicmodels.**  Follow the steps below to complete the sample database installation:\n",
    "\n",
    "1. Download the file:\n",
    "    \n",
    "   *  **[classicmodels database](https://www.mysqltutorial.org/wp-content/uploads/2018/03/mysqlsampledatabase.zip)**\n",
    "   \n",
    "2.  (Mac only, Window users skip this step) Open the `XXXX Obtain filename for Macs` file once downloaded to extract the `classicmodels` folder.\n",
    "\n",
    "3.  Open `MySQL Workbench` from your Launchpad.\n",
    "\n",
    "4.  Click on the `Local instance 3306` button to connect to your MySQL service.\n",
    "\n",
    "    ![Welcome page for MySQL. There is an arrow pointing to a line of text under the heading MySQL connections at the bottom of the screen that reads local instance 33 O 6, root, local host 33 O 6.](media/MacOSWorkbenchOpenInstance.png)  \n",
    "\n",
    "5.  Enter your `root` user password (should be `Password1!` if you followed the installation steps earlier in the lesson)\n",
    "\n",
    "6.  Once the instance is open, click on the `File` menu and select `Open SQL Script`.\n",
    "\n",
    "7.  Navigate to and select the `classicmodels.sql` file.  \n",
    "\n",
    "8.  Execute the script by clicking on the lightning bolt icon toward the top of the screen, as shown in the image below:\n",
    "\n",
    "    ![Window for sakila-schema.sql. An arrow points to a lightning bolt in the upper left corner of the menu bar at the top of the screen.](media/RunSchemaSQL.png)\n",
    "\n",
    "9.  Once the schema script is complete, click on the refresh button next to the `Schemas` menu on the left and you should now see the `classicmodels` schema listed:\n",
    "\n",
    "    ![classicmodels schema menus. The files that are highlighted in the menu include tables, views, stored procedures, and functions.](media/SakilaSchemaRefresh.png)  \n",
    "\n",
    "10. At this point you do not yet have any data in the database so you must run the other SQL script that came in the `classicmodels` folder.  Click on the `File` menu, and select `Open SQL Script` again.\n",
    "\n",
    "11.  Navigate to and select the `mysqlsampledatabase.sql` file.\n",
    "\n",
    "12. Execute the script by once again clicking on the lightning bolt icon.  (Make sure the tab for `classicmodels` is currently open.)\n",
    "\n",
    "13. Under the Schemas menu on the left you can click on the `customers` table and select the `Select Rows - Limit 1000` option to run a query on the customers table and see the data:\n",
    "\n",
    "    ![Menu located inside the classicmodels schema tables folder. An arrow points to actor. Another popup menu is shown with the option select rows limit 1000 highlighted.](media/SelectActorRows.png)  \n",
    "\n",
    "If you see data in the Result Grid, then you're all set!\n",
    "\n",
    "\n",
    "    \n",
    "    "
   ]
  },
  {
   "cell_type": "code",
   "execution_count": null,
   "id": "8dc80c06-2d95-44a5-a96c-7a041170968b",
   "metadata": {},
   "outputs": [],
   "source": []
  },
  {
   "cell_type": "code",
   "execution_count": null,
   "id": "784c12dd-8758-4503-a17d-b2a5c2247e8f",
   "metadata": {},
   "outputs": [],
   "source": []
  },
  {
   "cell_type": "markdown",
   "id": "20fcbef8-1694-49fd-8eca-43af29299448",
   "metadata": {},
   "source": [
    "classicmodels is a messy little database. It has null values, it has mixed cases, it has commas strewn about.  Phone numbers and postal zip codes are in different formats.  You'll really hone your SQL data cleaning skills with this database! "
   ]
  },
  {
   "cell_type": "markdown",
   "id": "d4a2cbcd-a356-493b-ba59-ad4647f2b185",
   "metadata": {},
   "source": [
    "The **MySQL classicmodels sample database schema** consists of the following tables:\n",
    "\n",
    "**Customers:** stores customers' data.<br>\n",
    "**Products:** stores a list of scale model cars. <br>\n",
    "**ProductLines:** stores a list of product line categories.<br>\n",
    "**Orders:** stores sales orders placed by customers.<br>\n",
    "**OrderDetails:** stores sales order line items for each sales order.<br>\n",
    "**Payments:** stores payments made by customers based on their accounts.<br>\n",
    "**Employees:** stores all employee information as well as the organization structure such as who reports to whom.<br>\n",
    "**Offices:** stores sales office data.<br>\n"
   ]
  },
  {
   "cell_type": "markdown",
   "id": "1baf8218-0ede-49d5-984b-1e49678e01a0",
   "metadata": {},
   "source": [
    "# ER Diagram"
   ]
  },
  {
   "cell_type": "markdown",
   "id": "6a5d4083-62b6-404f-b499-819935d47dae",
   "metadata": {},
   "source": [
    "<p style=\"text-align: left\">\n",
    "  <img  src=\"../media/ER_relationship.jpg\" width=\"400\" alt=\"ER Diagram\">\n",
    "</p>\n",
    "\n",
    "\n",
    "<p style=\"text-align: left\">\n",
    "  <img  src=\"C:/Users/Marcy/Documents/GitHub/privatus-data-inceptis-in-situ/Advanced SQL lessons/media/ER_relationship.png\" width=\"400\" alt=\"ER Diagram\">\n",
    "</p>\n",
    "\n",
    "![ERD](./media/ER_relationship.png)\n",
    "\n",
    "<img src=\"./media/ER_relationship.png\" alt=\"alt text\" title=\"image Title\" />\n",
    "\n"
   ]
  },
  {
   "cell_type": "markdown",
   "id": "95b9c38b-3fb7-4990-bd16-957173e78b9b",
   "metadata": {},
   "source": [
    "An Entity Relationship Diagram, also known as ERD, ER Diagram or ER model, is a type of structural diagram for use in database design. An ER diagram contains different symbols and connectors that visualize two important pieces of information: The major categories, or entities within the system scope, and the relationships among these entities.\n",
    "\n",
    "That's how it gets its name: \"Entity\" \"Relationship\" diagram (ERD). \n",
    "\n",
    "When we talk about entities in ERD, very often we are referring to business objects like people or roles (like a student), tangible business objects (e.g. Product), intangible business objects (e.g. Log, EmployeeID, ProductID, DateTime, Price, etc.).\n",
    "\"Relationship\" is about how these entities relate to each other within the system. Your primary and foreign keys relate the different entities to each other. Here's a picture of an ERD for sakila, which you're familiar with:"
   ]
  },
  {
   "cell_type": "markdown",
   "id": "775c6aa8-216e-4cdf-9b14-179f8a69cf4b",
   "metadata": {},
   "source": [
    "Notice in this picture how the green lines stems from film_actor and runs to several tables? - remember how you used that as a middleman to join two different tables in previous lessons?  This entity has two foreign keys: actor_id and film_id. They're red, while primary keys are yellow. "
   ]
  },
  {
   "cell_type": "markdown",
   "id": "2af78049-b9b9-474e-8c5e-273addf00a11",
   "metadata": {},
   "source": [
    "In the next photo, notice the colored lines that follow the relationship of an entity through the diagram. Remember how you had to do multiple joins using foreign keys? In this diagram, primary keys are yellow, and the foreign keys are red.  In the actual diagram you can hover over the solid or dashed lines between the tables and the colors will activate when you hover over, revealing a relationship between tables. "
   ]
  },
  {
   "cell_type": "markdown",
   "id": "f045ba3f-ee0f-4412-9e96-265b8e30011d",
   "metadata": {},
   "source": [
    "![Picture of customer_id and highlighted lines between tables](\"/media/customer_id.jpg\")"
   ]
  },
  {
   "cell_type": "markdown",
   "id": "0734c00a-5f43-4b70-8c94-18cc61c9ada1",
   "metadata": {},
   "source": [
    "If you'd like to view the ER Diagram for yourself, here's a video on how to reverse engineer an ERD from an existing database."
   ]
  },
  {
   "cell_type": "code",
   "execution_count": null,
   "id": "077bb459-0862-4b93-a17b-0bc3003aebf1",
   "metadata": {},
   "outputs": [],
   "source": []
  },
  {
   "cell_type": "markdown",
   "id": "8e5848fa-30c6-45ba-93e8-9ba1bae29c5e",
   "metadata": {},
   "source": [
    "If you'd like to read more in depth about ER Diagrams, check out this [link.](https://www.visual-paradigm.com/guide/data-modeling/what-is-entity-relationship-diagram/;WWWSESSIONID=7AC60E43A8683AA8B37A9A087BFA4DD9.www1)"
   ]
  },
  {
   "cell_type": "markdown",
   "id": "b8d66a9b-6388-441f-9921-8216a1f4dd09",
   "metadata": {},
   "source": [
    "Tips with MySQL:\n",
    "    * You don't have to highlight and press the lightning bolt for a single line of code: you can press ctrl + enter on a Windows.  For a Mac, you press XXX"
   ]
  },
  {
   "cell_type": "markdown",
   "id": "422d937c-c616-4eaf-8fa6-acb8a0e40c6c",
   "metadata": {},
   "source": [
    "You can right-click on a line in the output pane and clear output. "
   ]
  },
  {
   "cell_type": "code",
   "execution_count": null,
   "id": "db3c2dc3-98b4-4feb-af4f-55096bbb3121",
   "metadata": {},
   "outputs": [],
   "source": []
  }
 ],
 "metadata": {
  "kernelspec": {
   "display_name": "Python 3 (ipykernel)",
   "language": "python",
   "name": "python3"
  },
  "language_info": {
   "codemirror_mode": {
    "name": "ipython",
    "version": 3
   },
   "file_extension": ".py",
   "mimetype": "text/x-python",
   "name": "python",
   "nbconvert_exporter": "python",
   "pygments_lexer": "ipython3",
   "version": "3.10.4"
  }
 },
 "nbformat": 4,
 "nbformat_minor": 5
}
