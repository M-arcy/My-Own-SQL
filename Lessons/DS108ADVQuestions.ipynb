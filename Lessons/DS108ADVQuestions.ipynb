{
 "cells": [
  {
   "cell_type": "markdown",
   "id": "64180468-1946-4e2f-b780-6d7ad6f239f0",
   "metadata": {},
   "source": [
    "# DS108ADV Lesson 3 Questions"
   ]
  },
  {
   "cell_type": "code",
   "execution_count": 1,
   "id": "f07a7f1b-c151-4c7e-ad38-5fc7a26b0bc5",
   "metadata": {},
   "outputs": [],
   "source": [
    "from DS_Students import MultipleChoice"
   ]
  },
  {
   "cell_type": "markdown",
   "id": "4e578a6e-0f67-4cc8-91dd-1775b6cd1fe8",
   "metadata": {},
   "source": [
    "## Page 2"
   ]
  },
  {
   "cell_type": "code",
   "execution_count": 6,
   "id": "8214cf05-ab02-4fab-a876-5a73e6ce4825",
   "metadata": {},
   "outputs": [],
   "source": [
    "L3P9Q1 = MultipleChoice('1. Which entities do Data Analysts fulfill requests for?',['CEOs','Marketing Department','Clients', 'All of the above'],'All of the above')\n",
    "L3P9Q2 = MultipleChoice('2. SQL queries will order rows as the database finds them if more specific instructions to do otherwise are not given.',['True','False'],'True')\n",
    "L3P9Q3 = MultipleChoice('3. If ORDER BY is used, and no order sequence is explicitly given, in what order will rows be returned?',['Ascending','Descending','Random', 'Numeric'],'Ascending')\n",
    "L3P9Q4 = MultipleChoice('4. The basic anatomy of a SQL query follows which order?',['Analysis, Grouping, Conditional, Operation, Data','Operation, Data, Conditional, Grouping, Post-processing','Data, Operation, Grouping, Conditional, Exit', 'Descriptive, Data, Operation, Conditional, Grouping'],'Operation, Data, Conditional, Grouping, Post-processing')\n"
   ]
  },
  {
   "cell_type": "code",
   "execution_count": 7,
   "id": "af502fd6-f462-4f59-b1fc-f57322157e06",
   "metadata": {},
   "outputs": [
    {
     "data": {
      "application/vnd.jupyter.widget-view+json": {
       "model_id": "dd8344bf1e6640d7820d04117e93e430",
       "version_major": 2,
       "version_minor": 0
      },
      "text/plain": [
       "VBox(children=(Output(outputs=({'name': 'stdout', 'text': '\\x1b[1m1. Which entities do Data Analysts fulfill r…"
      ]
     },
     "metadata": {},
     "output_type": "display_data"
    },
    {
     "data": {
      "application/vnd.jupyter.widget-view+json": {
       "model_id": "afedc576917d41048e0a66e8387fc1fc",
       "version_major": 2,
       "version_minor": 0
      },
      "text/plain": [
       "VBox(children=(Output(outputs=({'name': 'stdout', 'text': '\\x1b[1m2. SQL queries will order rows as the databa…"
      ]
     },
     "metadata": {},
     "output_type": "display_data"
    },
    {
     "data": {
      "application/vnd.jupyter.widget-view+json": {
       "model_id": "cc2b937c0c944fb9a761a33d24d79767",
       "version_major": 2,
       "version_minor": 0
      },
      "text/plain": [
       "VBox(children=(Output(outputs=({'name': 'stdout', 'text': '\\x1b[1m3. If ORDER BY is used, and no order sequenc…"
      ]
     },
     "metadata": {},
     "output_type": "display_data"
    },
    {
     "data": {
      "application/vnd.jupyter.widget-view+json": {
       "model_id": "d997b3063e6f4d4d93252a055ce22ead",
       "version_major": 2,
       "version_minor": 0
      },
      "text/plain": [
       "VBox(children=(Output(outputs=({'name': 'stdout', 'text': '\\x1b[1m4. The basic anatomy of a SQL query follows …"
      ]
     },
     "metadata": {},
     "output_type": "display_data"
    }
   ],
   "source": [
    "if __name__ == \"__main__\":\n",
    "    display(L3P9Q1, L3P9Q2, L3P9Q3, L3P9Q4)"
   ]
  },
  {
   "cell_type": "code",
   "execution_count": null,
   "id": "5305458d-aa5c-4a32-bd03-fa4473715ab0",
   "metadata": {},
   "outputs": [],
   "source": []
  }
 ],
 "metadata": {
  "kernelspec": {
   "display_name": "Python 3 (ipykernel)",
   "language": "python",
   "name": "python3"
  },
  "language_info": {
   "codemirror_mode": {
    "name": "ipython",
    "version": 3
   },
   "file_extension": ".py",
   "mimetype": "text/x-python",
   "name": "python",
   "nbconvert_exporter": "python",
   "pygments_lexer": "ipython3",
   "version": "3.10.4"
  }
 },
 "nbformat": 4,
 "nbformat_minor": 5
}
