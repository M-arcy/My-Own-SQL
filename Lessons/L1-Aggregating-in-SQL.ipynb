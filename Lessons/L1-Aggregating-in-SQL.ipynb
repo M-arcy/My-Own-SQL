{
 "cells": [
  {
   "cell_type": "markdown",
   "id": "80a2f610-daba-43cd-a7d8-30bffdc4d6fa",
   "metadata": {},
   "source": [
    "### Table of Contents <a class=\"anchor\" id=\"BeyondSQL2_toc\"></a>\n",
    "\n",
    "* [Table of Contents](#BeyondSQL2_toc)\n",
    "    * [Page 1 - Introduction](#BeyondSQL2_page_1)\n",
    "    * [Page 2 - Importing classicmodels](#BeyondSQL2_page_2)\n",
    "    * [Page 3 - Getting to know classicmodels](#BeyondSQL2_page_3)\n",
    "    * [Page 4 - Basic Sums and Averages](#BeyondSQL2_page_4)\n",
    "    * [Page 5 - ](#BeyondSQL2_page_5)\n",
    "    * [Page 6 - ](#BeyondSQL2_page_6)\n",
    "    * [Page 7 - ](#BeyondSQL2_page_7)\n",
    "    * [Page 8 - Comments](#BeyondSQL2_page_8)\n",
    "    * [Page 9 - future](#BeyondSQL2_page_9)\n",
    "    * [Page 10 - Key Terms](#BeyondSQL2_page_10)\n",
    "    * [Page 11 - Lesson X Exam](#BeyondSQL2_page_11)"
   ]
  },
  {
   "cell_type": "markdown",
   "id": "31264b56-21a7-4eca-8fd5-580f2edf58a3",
   "metadata": {},
   "source": [
    "<hr style=\"height:10px;border-width:0;color:gray;background-color:teal\">\n",
    "\n",
    "# Page 1 - Introduction <a class=\"anchor\" id=\"BeyondSQL2_page_1\"></a>\n",
    "\n",
    "[Back to Top](#BeyondSQL2_toc)\n",
    "\n",
    "<hr style=\"height:10px;border-width:0;color: gray;background-color:teal\">"
   ]
  },
  {
   "cell_type": "markdown",
   "id": "00a0bca6-e79d-45b4-a0c3-13e89b4f1df2",
   "metadata": {},
   "source": [
    "from IPython.display import VimeoVideo\n",
    "\n",
    "#Tutorial Video Name: future name here \n",
    "\n",
    "#VimeoVideo('0000', width=720, height=480)"
   ]
  },
  {
   "cell_type": "markdown",
   "id": "6ac1ff52-e4d7-4850-a0af-4f80f66eeaaf",
   "metadata": {},
   "source": [
    "So far you've learned basic queries in SQL. This portion goes beyond the basic queries you've learned. Now you'll learn more about filtering and returning more complex queries using a different database. "
   ]
  },
  {
   "cell_type": "markdown",
   "id": "a09f3b39-615c-48b4-aebc-a9b286ff1547",
   "metadata": {},
   "source": [
    "<hr style=\"height:10px;border-width:0;color:gray;background-color:teal\">\n",
    "\n",
    "# Page  2- Importing classicmodels <a class=\"anchor\" id=\"BeyondSQL2_page_2\"></a>\n",
    "\n",
    "[Back to Top](#BeyondSQL2_toc)\n",
    "\n",
    "<hr style=\"height:10px;border-width:0;color: gray;background-color:teal\">"
   ]
  },
  {
   "cell_type": "markdown",
   "id": "1754b6fa-a3d1-419b-9f11-09195e0357e7",
   "metadata": {},
   "source": [
    "### Installing Database"
   ]
  },
  {
   "cell_type": "markdown",
   "id": "9a04b516-831b-4b49-9ee9-26287da24200",
   "metadata": {},
   "source": [
    "This course requires the sample database provided by MySQL called **classicmodels.**  Follow the steps below to complete the sample database installation:\n",
    "\n",
    "1. Download the file:\n",
    "    \n",
    "   *  **[classicmodels database](https://www.mysqltutorial.org/wp-content/uploads/2018/03/mysqlsampledatabase.zip)**\n",
    "   \n",
    "2.  (Mac only, Window users skip this step) Open the `XXXX Obtain filename for Macs` file once downloaded to extract the `classicmodels` folder.\n",
    "\n",
    "3.  Open `MySQL Workbench` from your Launchpad.\n",
    "\n",
    "4.  Click on the `Local instance 3306` button to connect to your MySQL service.\n",
    "\n",
    "5.  Once the instance is open, click on the `File` menu and select `Open SQL Script`.\n",
    "\n",
    "6.  Navigate to and select the `classicmodels.sql` file.  \n",
    "\n",
    "7.  Execute the script by clicking on the lightning bolt icon toward the top of the screen.\n",
    "\n",
    "8.  Once the schema script is complete, click on the refresh button next to the `Schemas` menu on the left and you should now see the `classicmodels` schema listed:\n",
    "\n",
    "9. At this point you do not yet have any data in the database so you must run the other SQL script that came in the `classicmodels` folder.  Click on the `File` menu, and select `Open SQL Script` again.\n",
    "\n",
    "10.  Navigate to and select the `mysqlsampledatabase.sql` file.\n",
    "\n",
    "11. Execute the script by once again clicking on the lightning bolt icon.  (Make sure the tab for `classicmodels` is currently open.)\n",
    "\n",
    "12. Under the Schemas menu on the left you can click on the `customers` table and select the `Select Rows - Limit 1000` option to run a query on the customers table and see the data:\n",
    "\n",
    "   \n",
    "If you see data in the Result Grid, then you're all set!\n",
    "\n",
    "\n",
    "    "
   ]
  },
  {
   "cell_type": "markdown",
   "id": "1cf6c07b-b85e-46a8-b5bc-3853fa2044f1",
   "metadata": {},
   "source": [
    "<hr style=\"height:10px;border-width:0;color:gray;background-color:teal\">\n",
    "\n",
    "# Page 3 - Getting to Know classicmodels <a class=\"anchor\" id=\"BeyondSQL2_page_3\"></a>\n",
    "\n",
    "[Back to Top](#BeyondSQL2_toc)\n",
    "\n",
    "<hr style=\"height:10px;border-width:0;color: gray;background-color:teal\">"
   ]
  },
  {
   "cell_type": "markdown",
   "id": "03a93f77-f277-4b6d-b72b-bad7dc78a27a",
   "metadata": {},
   "source": [
    "In classicmodels, you'll find several tables relating to the sale of classic cars, motorcycles, and other vintage aircraft, ships and vehicles. There are some surprises in the database, which is why it was chosen. Customers, sales reps, employees, payments are included."
   ]
  },
  {
   "cell_type": "markdown",
   "id": "e8ad617f-d27b-4538-bee9-c07c5a68a505",
   "metadata": {},
   "source": [
    "classicmodels is a messy little database. It has null values, it has mixed cases, it has commas strewn about.  Phone numbers and postal zip codes are in different formats.  You'll really hone your SQL data cleaning skills with this database! "
   ]
  },
  {
   "cell_type": "markdown",
   "id": "b4e2d158-b2f7-4487-ae04-396fd04d2aae",
   "metadata": {},
   "source": [
    "The **MySQL classicmodels sample database schema** consists of the following tables:\n",
    "\n",
    "**Customers:** stores customers' data.<br>\n",
    "**Products:** stores a list of scale model cars. <br>\n",
    "**ProductLines:** stores a list of product line categories.<br>\n",
    "**Orders:** stores sales orders placed by customers.<br>\n",
    "**OrderDetails:** stores sales order line items for each sales order.<br>\n",
    "**Payments:** stores payments made by customers based on their accounts.<br>\n",
    "**Employees:** stores all employee information as well as the organization structure such as who reports to whom.<br>\n",
    "**Offices:** stores sales office data.<br>"
   ]
  },
  {
   "cell_type": "markdown",
   "id": "98eb3e40-3cf5-446c-950e-7b7afd34e52a",
   "metadata": {},
   "source": [
    "If you've been using sakila, you'll need to change databases in order to start querying classicmodels tables. "
   ]
  },
  {
   "cell_type": "markdown",
   "id": "5e98ccb6-f886-4333-a2c4-b1f1f1c03332",
   "metadata": {},
   "source": [
    "```sql\n",
    "show databases;\n",
    "select * FROM mysql;\n",
    "\n",
    "use classicmodels;\n",
    "```"
   ]
  },
  {
   "cell_type": "markdown",
   "id": "20d7d918-3f21-4e7e-a2fe-3e693c18ac08",
   "metadata": {},
   "source": [
    "![Results](media/USE-database.png)"
   ]
  },
  {
   "cell_type": "markdown",
   "id": "af6fa1f0-f8c8-4281-9055-7b3e4a72028d",
   "metadata": {},
   "source": [
    "<hr style=\"height:10px;border-width:0;color:gray;background-color:teal\">\n",
    "\n",
    "# Page 4 - Basic Sums and Averages <a class=\"anchor\" id=\"BeyondSQL2_page_4\"></a>\n",
    "\n",
    "[Back to Top](#BeyondSQL2_toc)\n",
    "\n",
    "<hr style=\"height:10px;border-width:0;color: gray;background-color:teal\">"
   ]
  },
  {
   "cell_type": "markdown",
   "id": "29eb3ff2-314a-4ad7-97d3-68174d95d418",
   "metadata": {},
   "source": [
    "Now you're ready to start getting to know classicmodels. You can start with some basic queries such as:"
   ]
  },
  {
   "cell_type": "markdown",
   "id": "c6205079-8ebb-4866-ac46-8705ff941c1a",
   "metadata": {},
   "source": [
    "# Count Function"
   ]
  },
  {
   "cell_type": "markdown",
   "id": "076aebea-face-4537-be01-433c6d6d2dcb",
   "metadata": {},
   "source": [
    "### Introduction to the MySQL COUNT() function\n",
    "The COUNT() function is an aggregate function that returns the number of rows in a table. The COUNT() function allows you to count all rows or only rows that match a specified condition.\n",
    "\n",
    "The COUNT() function has three forms: COUNT(*), COUNT(expression) and COUNT(DISTINCT expression).\n",
    "\n",
    "#### COUNT(*) function\n",
    "\n",
    "The COUNT(*) function returns the number of rows in a result set returned by a SELECT statement. The COUNT(*) returns the number of rows including duplicate, non-NULL and NULL rows.\n",
    "\n",
    "#### COUNT(expression)\n",
    "\n",
    "The COUNT(expression) returns the number of rows that do not contain NULL values as the result of the expression.\n",
    "\n",
    "#### COUNT(DISTINCT expression)\n",
    "\n",
    "The COUNT(DISTINCT expression) returns the number of distinct rows that do not contain NULL values as the result of the expression.\n",
    "\n",
    "The return type of the COUNT() function is BIGINT. The COUNT()  function returns 0 if there is no matching row found."
   ]
  },
  {
   "cell_type": "markdown",
   "id": "d9e5c66a-c0f8-49bc-82bb-d1c836d21765",
   "metadata": {},
   "source": [
    "```sql\n",
    "SELECT COUNT (productName) FROM products;\n",
    "```"
   ]
  },
  {
   "cell_type": "markdown",
   "id": "b23b1d02-9c05-4ad9-8412-69632ff2998f",
   "metadata": {},
   "source": [
    "The COUNT(*) function is often used with a GROUP BY clause to return the number of elements in each group.\n",
    "\n",
    "For example, this statement uses the COUNT() function with the GROUP BY clause to return the number of products in each product line:"
   ]
  },
  {
   "cell_type": "markdown",
   "id": "d2bcb03a-121a-487d-ab9e-93fb14bf123d",
   "metadata": {},
   "source": [
    "```sql\n",
    "SELECT \n",
    "    productLine, \n",
    "    COUNT(*)\n",
    "FROM\n",
    "    products\n",
    "GROUP BY productLine;\n",
    "```"
   ]
  },
  {
   "cell_type": "markdown",
   "id": "3c9ccaac-cd2b-426f-9ad2-3f13b6179093",
   "metadata": {},
   "source": [
    "\n",
    "![Results](media/Count-product-lines-example.png)"
   ]
  },
  {
   "cell_type": "markdown",
   "id": "70eb7f2d-0c12-42b5-b974-7f4ff9fc48b3",
   "metadata": {},
   "source": [
    "The Count function will return its own column, and SQL will name it Count(*). So you'll have to call it that if you were to refer to it. "
   ]
  },
  {
   "cell_type": "markdown",
   "id": "e8fef602-593a-48de-a1ee-de6b4b5f4f6c",
   "metadata": {},
   "source": [
    "Similarly, this example uses the COUNT(*) function to find the number of products supplied by each vendor:"
   ]
  },
  {
   "cell_type": "markdown",
   "id": "1f8eeab8-4383-4feb-9698-4f1d5ad09e0d",
   "metadata": {},
   "source": [
    "```sql\n",
    "SELECT \n",
    "    productVendor, \n",
    "    COUNT(*)\n",
    "FROM\n",
    "    products\n",
    "GROUP BY productVendor\n",
    "ORDER BY COUNT(*) DESC;\n",
    "```"
   ]
  },
  {
   "cell_type": "markdown",
   "id": "7b96df98-6bce-4f2f-98a7-11b32853e808",
   "metadata": {},
   "source": [
    "![Results](media/Count-product-vendor-results.png)"
   ]
  },
  {
   "cell_type": "markdown",
   "id": "a8fc24ca-719a-4ab0-8b82-17e4821f7dcd",
   "metadata": {},
   "source": [
    "## Sum and Average"
   ]
  },
  {
   "cell_type": "code",
   "execution_count": null,
   "id": "f2260539-4bd2-4652-b648-aacfcc4623c1",
   "metadata": {},
   "outputs": [],
   "source": []
  },
  {
   "cell_type": "markdown",
   "id": "c6e3572a-e451-40c3-8a45-20e6a9c2dadc",
   "metadata": {},
   "source": [
    "```sql\n",
    "\n",
    "SELECT paymentDate, amount FROM payments\n",
    "ORDER BY amount DESC;\n",
    "\n",
    "SELECT sum(amount) AS \" Total Payments\",\n",
    "round(avg(amount, 0)) AS \"Average Payment\"\n",
    "FROM payments;\n",
    "\n",
    "SELECT amount from payments\n",
    "WHERE amount BETWEEN 0 and 5000;\n",
    "\n",
    "SELECT contactLastName, customerName, city, state FROM customers\n",
    "WHERE contactLastName LIKE 'a%' OR contactLastName LIKE 'b%' OR contactLastName LIKE 'c%';\n",
    "\n",
    "\n",
    "\n",
    "SELECT orderNumber, orderDate, quantityOrdered, priceEach, customerNumber FROM orderdetails\n",
    "JOIN orders USING (orderNumber);\n",
    "```"
   ]
  }
 ],
 "metadata": {
  "kernelspec": {
   "display_name": "Python 3 (ipykernel)",
   "language": "python",
   "name": "python3"
  },
  "language_info": {
   "codemirror_mode": {
    "name": "ipython",
    "version": 3
   },
   "file_extension": ".py",
   "mimetype": "text/x-python",
   "name": "python",
   "nbconvert_exporter": "python",
   "pygments_lexer": "ipython3",
   "version": "3.10.4"
  }
 },
 "nbformat": 4,
 "nbformat_minor": 5
}
