{
 "cells": [
  {
   "cell_type": "markdown",
   "id": "44599d63-43eb-466a-8ba6-d448020d5389",
   "metadata": {},
   "source": [
    "### Table of Contents <a class=\"anchor\" id=\"BeyondSQL3_toc\"></a>\n",
    "\n",
    "* [Table of Contents](#BeyondSQL3_toc)\n",
    "    * [Page 1 - Introduction](#BeyondSQL3_page_1)\n",
    "    * [Page 2 - Getting to Know classicmodels](#BeyondSQL3_page_2)\n",
    "    * [Page 3 -  Using IN to Make Code More Efficient](#BeyondSQL3_page_3)\n",
    "    * [Page 4 - ](#BeyondSQL3_page_4)\n",
    "    * [Page 5 - Ascending and Descending Order](#BeyondSQL3_page_5)\n",
    "    * [Page 6 - ](#BeyondSQL3_page_6)\n",
    "    * [Page 7 - ](#BeyondSQL3_page_7)\n",
    "    * [Page 8 - Key Terms](#BeyondSQL3_page_8)\n",
    "    * [Page 9 - Quiz](#BeyondSQL3_page_9)\n",
    "    "
   ]
  },
  {
   "cell_type": "markdown",
   "id": "02533f8f-e54c-47a0-8a2d-5170944d785b",
   "metadata": {},
   "source": [
    "<hr style=\"height:10px;border-width:0;color:gray;background-color:teal\">\n",
    "\n",
    "# Page 1 - Introduction <a class=\"anchor\" id=\"BeyondSQL3_page_1\"></a>\n",
    "\n",
    "[Back to Top](#BeyondSQL3_toc)\n",
    "\n",
    "<hr style=\"height:10px;border-width:0;color: gray;background-color:teal\">"
   ]
  },
  {
   "cell_type": "markdown",
   "id": "800aee58-1eb3-40d3-84cf-2b8ab6f8d2d3",
   "metadata": {},
   "source": [
    "from IPython.display import VimeoVideo\n",
    "\n",
    "#Tutorial Video Name: future name here \n",
    "\n",
    "#VimeoVideo('0000', width=720, height=480)"
   ]
  },
  {
   "cell_type": "markdown",
   "id": "f730a953-b940-46e5-9b3d-ee208f5b9559",
   "metadata": {},
   "source": [
    "Remember that relational databases use a relational model of data. A relational model organizes data as relations, or sets of tuples. For example, imagine a customer relation, where each tuple represents a customer. Each tuple would have attributes describing each individual customer, with information like first name, last name, customer number. One or more of those attributes will be used as a key to uniquely identify each customer tuple. The relational model allows logical operations to be performed between tables, or relations. "
   ]
  },
  {
   "cell_type": "markdown",
   "id": "1e040f02-4507-4077-aabd-12dc1d1540ac",
   "metadata": {},
   "source": [
    "In relational databases, relations are set up as table, just like you'd find in an Excel spreadsheet. Each row of the table is a tuple, and the attributes make up the columns of the table. Most tables have a primary key column, which uniquely identifies each row of a database. Every column has a data type, which describes the data for the column and was set when the table was created. \n",
    "\n",
    "The software used to manage relational databases, on a computer, anyway, is called a relational database management system, or RDBMS. SQL is the language used by users of an RDBMS to access and interatct with the relational database. "
   ]
  },
  {
   "cell_type": "markdown",
   "id": "25eea664-6b41-4e42-b331-30efac7c2b97",
   "metadata": {},
   "source": [
    "## Basic Anatomy of a SQL Query"
   ]
  },
  {
   "cell_type": "markdown",
   "id": "36a2701a-55a1-4664-9e36-2ba43695347d",
   "metadata": {},
   "source": [
    "A query follows a certain ordered pattern, just like any other langage. In English, adjectives come before nouns. In Spanish, they come after. Like any language, SQL has its own rules. This written language has its own syntax, punctuation and word order. \n",
    "\n",
    "Generally speaking, a query can be broken into five parts, and when each is used, must be used in this order:\n",
    "\n",
    "**Operation** the first part of a query describes what is going to be done. Most of the time it is the word SELECT, followed by the names of columns combined with functions. \n",
    "\n",
    "**Data** this part of the query is the data, which follows the FROM keyword, and possible one or more tables joined, indicating which data should be scanned by the RDBMS for filtering, selection and calculation. \n",
    "\n",
    "**Conditional** A special clause that filters the data to only rows that meet a certain condition- usually with WHERE.\n",
    "\n",
    "**Grouping** A special clause that takes the rows of a database, and assembles them in order with GROUP BY and then calculates a value using the values from all rows with the same value. \n",
    "\n",
    "**Post-processing** the last part of a query that takes the results of the data and formats them by sorting and limiting, often with ORDER BY and LIMIT."
   ]
  },
  {
   "cell_type": "markdown",
   "id": "7bf7d7b2-33d5-4424-aeb7-61d535c626ae",
   "metadata": {},
   "source": [
    "## Visualize Yourself as a Data Analyst "
   ]
  },
  {
   "cell_type": "markdown",
   "id": "3e8efc58-ae41-4115-8b8b-3ce931aed301",
   "metadata": {},
   "source": [
    "This lesson is an exercise in real-world scenarios.  You are a data analyst for Entity Cars, a high-end classic car company located in the Southwest. It's a popular chain of car dealerships that sells high-end vintage race cars, motorcycles, and even the occasional helicopter. They cater to wealthy collectors and car enthusiasts and as such, maintain an active marketing department and inquisitive and engaged C-suite. Your job is to provide answers to their questions that solve business goals, and you answer to the Vice President of Sales. The marketing department actively uses your insights to plan events, sales and marketing outreach. You'll be using classicmodels for this. "
   ]
  },
  {
   "cell_type": "code",
   "execution_count": null,
   "id": "e656b3d4-69d5-40ea-85d3-93e9b3ba1e47",
   "metadata": {},
   "outputs": [],
   "source": []
  },
  {
   "cell_type": "markdown",
   "id": "6d4eef39-b792-4e36-b39b-1fc246773afc",
   "metadata": {},
   "source": [
    "<hr style=\"height:10px;border-width:0;color:gray;background-color:teal\">\n",
    "\n",
    "# Page  2- Getting to Know classicmodels <a class=\"anchor\" id=\"BeyondSQL3_page_2\"></a>\n",
    "\n",
    "[Back to Top](#BeyondSQL3_toc)\n",
    "\n",
    "<hr style=\"height:10px;border-width:0;color: gray;background-color:teal\">"
   ]
  },
  {
   "cell_type": "markdown",
   "id": "39745b1b-115c-40d5-8ac2-1770ad1c8f00",
   "metadata": {},
   "source": [
    "Here is a link to the author of the classicmodels database, in his __[Github repository](https://gist.github.com/prof3ssorSt3v3/796ebc82fd8eeb0b697effaa1e86c3a6)__."
   ]
  },
  {
   "cell_type": "markdown",
   "id": "165d876f-6fb6-41b5-b57c-7dd370c32149",
   "metadata": {},
   "source": [
    "You may recall classicmodels has the following tables:\n",
    "\n",
    "**Customers:** stores customers' data.<br>\n",
    "**Products:** stores a list of scale model cars. <br>\n",
    "**ProductLines:** stores a list of product line categories.<br>\n",
    "**Orders:** stores sales orders placed by customers.<br>\n",
    "**OrderDetails:** stores sales order line items for each sales order.<br>\n",
    "**Payments:** stores payments made by customers based on their accounts.<br>\n",
    "**Employees:** stores all employee information as well as the organization structure such as who reports to whom.<br>\n",
    "**Offices:** stores sales office data.<br>"
   ]
  },
  {
   "cell_type": "markdown",
   "id": "df1aabd2-d5a6-4b1b-bb84-57bb53969214",
   "metadata": {},
   "source": [
    "In first getting to know a family of relational tables, you may SELECT all from each table to take a peek. Or you may reverse engineer the Entity Relationship Diagram, or ERD. There may be a data dictionary included. Use any or all of your resources to learn about the data. "
   ]
  },
  {
   "cell_type": "markdown",
   "id": "f1c4bfe0-d4ea-489c-b7a1-ecf6ddabcf45",
   "metadata": {},
   "source": [
    "```sql\n",
    "SELECT * FROM employees;\n",
    "SELECT * FROM productNames;\n",
    "```"
   ]
  },
  {
   "cell_type": "markdown",
   "id": "c96590f8-bc8e-48f7-a077-ddcad94afff7",
   "metadata": {},
   "source": [
    "The asterisk will pull all data from a database. The * symbol is shorthand to return all columns from a database. It's important to realize that the rows will be returned in no specific order. If  you want to return only specific columns from a query, list them in the order you want them returned. "
   ]
  },
  {
   "cell_type": "markdown",
   "id": "925f30fa-ecfc-4327-87cb-cdac30f18366",
   "metadata": {},
   "source": [
    "```sql\n",
    "\n",
    "SELECT productName, MSRP FROM products;\n",
    "```"
   ]
  },
  {
   "cell_type": "markdown",
   "id": "3d460d28-3434-4c7b-a89c-be37341f2710",
   "metadata": {},
   "source": [
    "But if you wanted MSRP listed first:"
   ]
  },
  {
   "cell_type": "markdown",
   "id": "68ae09e8-9653-4fd4-86bd-2f49041da0f6",
   "metadata": {},
   "source": [
    "```sql\n",
    "SELECT MSRP, productName FROM products;\n",
    "```"
   ]
  },
  {
   "cell_type": "markdown",
   "id": "87c67c73-1293-403e-91b3-7034666e2081",
   "metadata": {},
   "source": [
    "<hr style=\"height:10px;border-width:0;color:gray;background-color:teal\">\n",
    "\n",
    "# Page 3 - Using IN to Make Code More Efficient <a class=\"anchor\" id=\"BeyondSQL3_page_3\"></a>\n",
    "\n",
    "[Back to Top](#BeyondSQL3_toc)\n",
    "\n",
    "<hr style=\"height:10px;border-width:0;color: gray;background-color:teal\">"
   ]
  },
  {
   "cell_type": "markdown",
   "id": "9e74dfcc-c234-4b2d-bd74-b652ccc9f298",
   "metadata": {},
   "source": [
    "Anthony Bow, the Sales Manager for North America, has asked for a phone list for customers in California so his District Managers there can follow up on how customers feel about service they received recently, based on a dashboard you created last month about dipping sales figures in some areas of the state.  Anthony is asking for this list alphabetically by customer last name and would like it by tomorrow morning. "
   ]
  },
  {
   "cell_type": "markdown",
   "id": "c3871de4-ab39-4c13-81de-3212613d8b93",
   "metadata": {},
   "source": [
    "```sql\n",
    "SELECT customerName, phone from customers\n",
    "WHERE state = \"CA\"\n",
    "ORDER BY contactLastName;\n",
    "```"
   ]
  },
  {
   "cell_type": "markdown",
   "id": "46d5666a-5c34-4c6e-a2c3-8ebe349d6494",
   "metadata": {},
   "source": [
    "Because you're only looking for one state, there's no need to return your search results ordered by state. In this case, ordering by contact's last name is sufficient. "
   ]
  },
  {
   "cell_type": "markdown",
   "id": "5549a22b-9d4d-4041-a001-76819d11a817",
   "metadata": {},
   "source": [
    "It's the next week, and Anthony has gotten feedback from the district managers. He would like to expand the plan to have managers call customers in Nevada, New York and Massachusetts, after learning that some customers are driving from out of state to purchase vehicles in a few of the dealerships in California. How will you write this query, in as few lines as possible? Remember to make it easy for the managers to split up the list by state."
   ]
  },
  {
   "cell_type": "markdown",
   "id": "28dfe6e1-e78b-43ed-aad5-0bebef3f1673",
   "metadata": {},
   "source": [
    "```sql\n",
    "SELECT customerName, phone, state from customers\n",
    "WHERE state IN (\"CA\", \"NY\", \"MA\", \"NV\")\n",
    "ORDER BY state, contactLastName;\n",
    "```"
   ]
  },
  {
   "cell_type": "markdown",
   "id": "f7902897-626b-49fc-9e7f-c4e903bea862",
   "metadata": {},
   "source": [
    "Anthony also would like to know how many customers are coming from outside the United States and where they're traveling in from. "
   ]
  },
  {
   "cell_type": "markdown",
   "id": "8f400c02-20c7-4e40-afd6-c7b04ce16b26",
   "metadata": {},
   "source": [
    "```sql\n",
    "select country from customers\n",
    "WHERE country NOT IN (\"USA\");\n",
    "```"
   ]
  },
  {
   "cell_type": "markdown",
   "id": "8469d7a6-d01e-42b4-ba8e-a6356f932b64",
   "metadata": {},
   "source": [
    "## Using IN and NOT IN to increase readability and efficiency"
   ]
  },
  {
   "cell_type": "markdown",
   "id": "56dbeb54-7110-4764-b6ce-cf2d33f99591",
   "metadata": {},
   "source": [
    "The VP of Sales is asking for a list of repeat customers. They have identified four, and the customer numbers for them are 112, 151, 216, and 489. They would like to extend thank-you gifts to these loyal customers. \n",
    "You could search for multiple customerNumbers using **OR**, and it's not wrong, but you're looking for fluency, efficiency and proficiency, so look for ways to incorporate **IN** and **NOT IN** where you can. "
   ]
  },
  {
   "cell_type": "markdown",
   "id": "85b0d018-43d0-4d32-80d5-a4ce0c55a947",
   "metadata": {},
   "source": [
    "```sql\n",
    "SELECT customerNumber, customerName, city, state FROM customers\n",
    "WHERE customerNumber = 112 OR customerNumber = 151 OR customerNumber = 216 OR customerNumber = 489;\n",
    "\n",
    "-- This way is cleaner coding:\n",
    "    \n",
    "SELECT customerNumber, customerName, city, state FROM customers\n",
    "WHERE customerNumber IN (112, 151, 216, 489);\n",
    "\n",
    "```"
   ]
  },
  {
   "cell_type": "markdown",
   "id": "0c21d186-8923-4055-89fd-933523fda5a3",
   "metadata": {},
   "source": [
    "Every month, the HR department recognizes certain offices for exemplary work. This month staff in Boston, Paris and Tokyo are being honored. "
   ]
  },
  {
   "cell_type": "markdown",
   "id": "0bca27ca-bc84-4777-a72a-8bcfe077f753",
   "metadata": {},
   "source": [
    "Search for staff who work in these offices, namely those with officeCodes matching  2, 4, and 5.  Remember SQL will return rows in random order, so group the offices together. Return city, first and last names and office codes. "
   ]
  },
  {
   "cell_type": "markdown",
   "id": "0a170b94-cd27-4e0c-8767-6c7bfd899b77",
   "metadata": {},
   "source": [
    "```sql\n",
    "SELECT city, lastName, firstName, officeCode FROM employees\n",
    "JOIN offices USING (officeCode) \n",
    "WHERE officeCode IN (2, 4, 5)\n",
    "ORDER BY officeCode;\n",
    "```"
   ]
  },
  {
   "cell_type": "markdown",
   "id": "b7506bb0-0696-472e-adcd-7dd812a8e0c0",
   "metadata": {},
   "source": [
    "<hr style=\"height:10px;border-width:0;color:gray;background-color:teal\">\n",
    "\n",
    "# Page 4 -  <a class=\"anchor\" id=\"BeyondSQL3_page_4\"></a>\n",
    "\n",
    "[Back to Top](#BeyondSQL3_toc)\n",
    "\n",
    "<hr style=\"height:10px;border-width:0;color: gray;background-color:teal\">"
   ]
  },
  {
   "cell_type": "code",
   "execution_count": null,
   "id": "082f0d1a-9a90-4d34-9203-baaa7c6f4151",
   "metadata": {},
   "outputs": [],
   "source": []
  },
  {
   "cell_type": "code",
   "execution_count": null,
   "id": "bb03b750-8b88-45ca-86c6-f3bbb88e862a",
   "metadata": {},
   "outputs": [],
   "source": []
  },
  {
   "cell_type": "markdown",
   "id": "e9bd140c-c081-4b19-a479-f0a15d323e1f",
   "metadata": {},
   "source": [
    "<hr style=\"height:10px;border-width:0;color:gray;background-color:teal\">\n",
    "\n",
    "# Page 5 - Ascending and Descending Order <a class=\"anchor\" id=\"BeyondSQL3_page_5\"></a>\n",
    "\n",
    "[Back to Top](#BeyondSQL3_toc)\n",
    "\n",
    "<hr style=\"height:10px;border-width:0;color: gray;background-color:teal\">"
   ]
  },
  {
   "cell_type": "markdown",
   "id": "b623e7fc-61e8-43f5-bdf5-17be5478a0ea",
   "metadata": {},
   "source": [
    "Ascending order means ordering smallest to highest values. In the case of letters, this means alphabetical. You can remember ascending = alphabetical since they both start with the letter A.  Ascending is the default, so if you don't specify, SQL will return ascending when you use **ORDER BY**.\n",
    "\n",
    "Descending is the opposite: ordering highest to smallest. In the case of dates, this would be most recent first. "
   ]
  },
  {
   "cell_type": "markdown",
   "id": "07518916-511b-4db4-91a4-0418a8b992ec",
   "metadata": {},
   "source": [
    "```sql\n",
    "SELECT * FROM orders\n",
    "ORDER BY shippedDate DESC; -- returns most recent dates first\n",
    "```"
   ]
  },
  {
   "cell_type": "markdown",
   "id": "e7e61cdf-ab18-46da-bf43-37c3a1c2a4cb",
   "metadata": {},
   "source": [
    "## Using NOT NULL "
   ]
  },
  {
   "cell_type": "markdown",
   "id": "4fbbc8ff-3f63-458e-a10f-af17953c9036",
   "metadata": {},
   "source": [
    "It's inefficient to return a list that has null values in the information fields you want returned. Limit your search results to only those fields that have useful information using NOT NULL."
   ]
  },
  {
   "cell_type": "markdown",
   "id": "6c7eac77-86d6-4b5f-8d5c-014219637759",
   "metadata": {},
   "source": [
    "The Customer Service manager wants to follow up with customers who gave \n",
    "feedback in the comments section of orders and she is asking you for a list of customers, \n",
    "their phone number, the comments and quantity ordered so that sales reps can follow up \n",
    "with the customers about each customer's exact issue. They would like this list by end of day. "
   ]
  },
  {
   "cell_type": "markdown",
   "id": "a68e6e0a-5583-49cc-b1be-05b5b0c2a92a",
   "metadata": {},
   "source": [
    "```sql\n",
    "/* \n",
    "You'll need to join two tables that don't share a foreign or primary key - but you'll need a third table, a middleman, in order to return the information you need. Like Nik says, this table is like a mutual friend, introducing customers and orderdetails tables to each other. \n",
    "*/\n",
    "\n",
    "\n",
    "\n",
    "select contactLastName, contactFirstName, phone, comments, quantityOrdered from customers\n",
    "JOIN orders USING (customerNumber)   \n",
    "JOIN orderdetails USING (orderNumber)\n",
    "WHERE comments IS NOT NULL\n",
    "ORDER BY orderDate DESC;\n",
    "\n",
    "```\n"
   ]
  },
  {
   "cell_type": "markdown",
   "id": "7d40e300-8c01-45c9-b542-fbf1598a158c",
   "metadata": {},
   "source": [
    "The customer service manager is happy with the results, but would like to have the first name listed first in the tables, and would like a nicer presentation for when he presents to his team, and has asked you to revise the query results. How would you do that?"
   ]
  },
  {
   "cell_type": "markdown",
   "id": "d5282cd6-35a9-4879-8699-4605e49109ea",
   "metadata": {},
   "source": [
    "```sql\n",
    "\n",
    "CREATE VIEW CommentCards AS\n",
    "SELECT contactFirstName AS FirstName, contactLastName AS LastName, phone, comments, quantityOrdered from customers\n",
    "JOIN orders USING (customerNumber)   \n",
    "JOIN orderdetails USING (orderNumber)\n",
    "WHERE comments IS NOT NULL\n",
    "ORDER BY orderDate DESC;\n",
    "\n",
    "SELECT * FROM CommentCards\n",
    "\n",
    "```"
   ]
  },
  {
   "cell_type": "code",
   "execution_count": null,
   "id": "5c88eef1-5582-41f4-8010-d41da1f8c633",
   "metadata": {},
   "outputs": [],
   "source": []
  },
  {
   "cell_type": "markdown",
   "id": "4e6a71c9-c890-48bb-be1d-376903992b25",
   "metadata": {},
   "source": [
    "The staff accountant is going through bank deposits in anticipation of an upcoming audit. The accountant would like to match up payments and payment dates with information from their records and is requesting a list of those things, starting with the largest amount first, in descending order."
   ]
  },
  {
   "cell_type": "markdown",
   "id": "b3bc1184-e7f6-4fb9-8dfc-bbdb74e83a4d",
   "metadata": {},
   "source": [
    "```sql\n",
    "\n",
    "SELECT paymentDate, amount FROM payments\n",
    "ORDER BY amount DESC;\n",
    "\n",
    "```"
   ]
  },
  {
   "cell_type": "markdown",
   "id": "ff3540ce-9d21-42c0-811c-1d95a8fc4662",
   "metadata": {},
   "source": [
    "Accounts Receivable Dept is asking for purchases older than a year, or less then $1,000. They would like to write off some of the old debt and send other accounts to collections. Compile a report for A/R."
   ]
  },
  {
   "cell_type": "markdown",
   "id": "5e729f9d-df6f-4608-a8ab-0f60bdf2c955",
   "metadata": {},
   "source": [
    "#  work on this one Wednesday"
   ]
  },
  {
   "cell_type": "code",
   "execution_count": null,
   "id": "f3dd2e8f-5caa-4c1e-bc5c-469892a60c07",
   "metadata": {},
   "outputs": [],
   "source": []
  },
  {
   "cell_type": "markdown",
   "id": "06c6d46d-7088-40ab-b39d-38ed7cc59565",
   "metadata": {},
   "source": [
    "<hr style=\"height:10px;border-width:0;color:gray;background-color:teal\">\n",
    "\n",
    "# Page 6 - C-Suite Requests <a class=\"anchor\" id=\"BeyondSQL3_page_6\"></a>\n",
    "\n",
    "[Back to Top](#BeyondSQL3_toc)\n",
    "\n",
    "<hr style=\"height:10px;border-width:0;color: gray;background-color:teal\">"
   ]
  },
  {
   "cell_type": "markdown",
   "id": "d8e94452-beae-4932-8589-8bbcfb67d1ae",
   "metadata": {},
   "source": [
    "## Having combined with aggregations"
   ]
  },
  {
   "cell_type": "markdown",
   "id": "ce815a4c-46a5-4eef-9cc3-5cf9cd3cdc39",
   "metadata": {},
   "source": [
    "There are ways to do math operations in SQL, and incorporate those into queries. The most common are SUM and AVERAGE. Mathematic operators (+  -  /  *) can be used inside parentheses with column values. This is one reason it's important to be sure columns that are integers are set up as such, and not as strings, so that math functions can be performed on them. "
   ]
  },
  {
   "cell_type": "markdown",
   "id": "a0f4f97f-41a2-4dbd-946d-aeeae38a83ef",
   "metadata": {},
   "source": [
    "The CEO has an upcoming state of the business address and is asking for some information as part of the report. The first request is for a total value of inventory on hand. You will need to use the SUM function on buyPrice and quantityInStock and call that InventoryValue. <br>\n",
    "The CEO is not interested in amounts of product inventory worth less than 50,000, as orders for new stock are expected to come in the next quarter and won't affect the company's P&L statement at this time. The CEO wants only InventoryValues more than $100,000. "
   ]
  },
  {
   "cell_type": "markdown",
   "id": "c2292ee0-3952-448f-b807-49b76febdb09",
   "metadata": {},
   "source": [
    "```sql\n",
    "\n",
    "SELECT productCode, SUM(buyPrice * quantityInStock) AS InventoryValue\n",
    "FROM products\n",
    "GROUP BY productCode\n",
    "HAVING SUM(buyPrice * quantityInStock) > 100000\n",
    "ORDER BY InventoryValue DESC;\n",
    "\n",
    "```"
   ]
  },
  {
   "cell_type": "markdown",
   "id": "0fd046d7-cf6a-41d0-97eb-ac74d6643921",
   "metadata": {},
   "source": [
    "Next on the list of tasks is pulling together revenue for the year, and identifying which products brought in the highest revenue for the company. The CEO intends to build on what worked in the past year and have staffers search for similar vehicles, given the success of the products in the past year. Build a table called Revenue that returns the productCode, productName, the sum of quantityOrdered times MSRP (which is the revenue). Group by productCode, include only those sales over 10,000 and sort it in descending order, with largest figure first. "
   ]
  },
  {
   "cell_type": "markdown",
   "id": "e49ec2eb-7b32-444e-b347-decf6feaffa9",
   "metadata": {},
   "source": [
    "```sql\n",
    "SELECT productCode, productName, SUM(quantityOrdered * MSRP) as Revenue\n",
    "FROM products\n",
    "JOIN orderdetails USING (productCode)\n",
    "GROUP BY productCode\n",
    "HAVING SUM(quantityOrdered * MSRP) > 10000\n",
    "ORDER BY Revenue DESC;\n",
    "```"
   ]
  },
  {
   "cell_type": "markdown",
   "id": "08da3d28-a557-4165-a3ce-ea5b26423171",
   "metadata": {},
   "source": [
    "#Using Count Function with CASE WHEN"
   ]
  },
  {
   "cell_type": "markdown",
   "id": "38ec6d9f-8cd8-4ec5-b57b-557d03fbe9d1",
   "metadata": {},
   "source": [
    "```sql\n",
    "SELECT \n",
    "COUNT (*) as TOTALCustomers,\n",
    "SUM(CASE WHEN orderNumber > 1 THEN 1 ELSE 0 END) AS RepeatCustomers,\n",
    "SUM(CASE WHEN orderNumber > 1 THEN 1 ELSE 0 END)\n",
    "/COUNT(*) AS %RepeatCustomers\n",
    "FROM customers\n",
    "JOIN orders USING (customerNumber)\n",
    "JOIN orderdetails USING (orderNumber);\n",
    "\n",
    "\n",
    "SELECT COUNT (productName) FROM products;\n",
    "```"
   ]
  },
  {
   "cell_type": "markdown",
   "id": "775abc9a-bad6-44ac-83b2-2a066f67299a",
   "metadata": {},
   "source": [
    "<hr style=\"height:10px;border-width:0;color:gray;background-color:teal\">\n",
    "\n",
    "# Page 7 - Updating Records in Tables <a class=\"anchor\" id=\"BeyondSQL3_page_7\"></a>\n",
    "\n",
    "[Back to Top](#BeyondSQL3_toc)\n",
    "\n",
    "<hr style=\"height:10px;border-width:0;color: gray;background-color:teal\">"
   ]
  },
  {
   "cell_type": "markdown",
   "id": "d1c3bb65-d691-4965-9415-459b66590b2b",
   "metadata": {},
   "source": [
    "There are three new offices which have opened recently. They're still in the process of renovating the office space and don't have any stock yet. Update the offices table with the new office locations. "
   ]
  },
  {
   "cell_type": "markdown",
   "id": "1827a1f2-0fad-4195-aea7-cf064dfcabb1",
   "metadata": {},
   "source": [
    "officeCode must be unique, and there are seven offices listed, 1-7 already. Update officeCode, city, phone, addressLine1, addressLine2 (used if there's a suite number), state, country, postalCode and list territory as NA."
   ]
  },
  {
   "cell_type": "markdown",
   "id": "2bf66c53-c8ca-48ea-a5c6-2c7cd0e10a82",
   "metadata": {},
   "source": [
    "```sql\n",
    "INSERT INTO offices(officeCode,city,phone,addressLine1,addressLine2,state,country,postalCode,territory) \n",
    "VALUES \n",
    "\n",
    "('8','Phoenix','+1 602 319 4882','1005 Camelback Road','Suite 300','AZ','USA','85015','NA'),\n",
    "\n",
    "('9','Orlando','+1 407 832 0825','1556 University Boulevard','Suite 102','FL','USA','32820','NA'),\n",
    "\n",
    "('10','Sault Ste. Marie','+1 905 632 3000','523 East Ashmun Avenue','Suite 5A','MI','USA','49783','NA');\n",
    "\n",
    "```"
   ]
  },
  {
   "cell_type": "markdown",
   "id": "8110f36b-0244-492f-9a80-11d6e93ac822",
   "metadata": {},
   "source": [
    "## Updating Tables "
   ]
  },
  {
   "cell_type": "markdown",
   "id": "be4b8907-6f2f-4803-840c-705a3f14700f",
   "metadata": {},
   "source": [
    "Over time, you may need to modify a table by adding columns, adding new data or updating existing rows. "
   ]
  },
  {
   "cell_type": "markdown",
   "id": "e85653a7-79a3-48f7-a1bb-547728cf5a86",
   "metadata": {},
   "source": [
    "### Adding and Removing Columns"
   ]
  },
  {
   "cell_type": "markdown",
   "id": "7422d274-43a4-4028-b059-8b79c16ffaba",
   "metadata": {},
   "source": [
    "To add new columns to an existing table, you can use the ADD statement. It changes the definition of a base table or the schema."
   ]
  },
  {
   "cell_type": "markdown",
   "id": "00abfe28-c989-4120-bfd7-bded52d758ee",
   "metadata": {},
   "source": [
    "```sql\n",
    "ALTER TABLE productName\n",
    "ADD COLUMN \n",
    "```"
   ]
  },
  {
   "cell_type": "code",
   "execution_count": null,
   "id": "7315293f-e336-498e-ad3a-ed313f9071e7",
   "metadata": {},
   "outputs": [],
   "source": []
  },
  {
   "cell_type": "code",
   "execution_count": null,
   "id": "c93b228c-5e24-403c-a22c-cc2827913416",
   "metadata": {},
   "outputs": [],
   "source": []
  },
  {
   "cell_type": "code",
   "execution_count": null,
   "id": "159a6e2c-2f30-4aa0-843b-d6c601094475",
   "metadata": {},
   "outputs": [],
   "source": []
  },
  {
   "cell_type": "markdown",
   "id": "516874f2-a7a9-4cb3-898d-932a86d58f85",
   "metadata": {},
   "source": [
    "<hr style=\"height:10px;border-width:0;color:gray;background-color:teal\">\n",
    "\n",
    "# Page 8 - Key Terms <a class=\"anchor\" id=\"BeyondSQL3_page_8\"></a>\n",
    "\n",
    "[Back to Top](#BeyondSQL3_toc)\n",
    "\n",
    "<hr style=\"height:10px;border-width:0;color: gray;background-color:teal\">"
   ]
  },
  {
   "cell_type": "markdown",
   "id": "78ec2b5e-0803-41d9-ba0f-8c5be778b085",
   "metadata": {},
   "source": [
    "# Key Terms\n",
    "- **Operation**: The first part of a query describes what is going to be done. In this case, the word SELECT followed by the names of the columns combined with functions. \n",
    "- **Data**: The next part of a query is the data, which is the FROM keyword followed by one or more tables connected together with JOIN, or indicating what data should be queried for filtering, selection, and calculation. \n",
    "- **Conditional**: A part of the query that filters the data to only rows that meet a condition, usually the WHERE operator is used. This is the third part of a query.\n",
    "- **Grouping**: A special clause that take rows of data and assembles them using a GROUP BY clause and then calculates the value.\n",
    "- **Post-processing** : The last part of a query that takes the results and formats them by limiting or sorting, usually with ORDER BY and LIMIT. \n",
    "- **LIMIT**:  Similar to a .head() function in Python or a head() function in R, this allows you to view just the first few rows of data.  You specify what to limit to. \n",
    "- **Order of Use in a SQL Query** : SELECT comes first, then FROM, then WHERE, then GROUP BY, then ORDER BY or LIMIT.\n",
    "- **Entity Relationship Diagram**: \n",
    "\n",
    "- **Ascending Order** : Rows will be ordered from smallest to highest value of the chosen columns. In the case of text, this means alphabetical.\n",
    "- **Descending Order** : Rows are ordered highest to lowest value, or reverse alphabetical order."
   ]
  },
  {
   "cell_type": "code",
   "execution_count": null,
   "id": "f429a256-3548-4b9f-8685-787a91bae33f",
   "metadata": {},
   "outputs": [],
   "source": []
  },
  {
   "cell_type": "code",
   "execution_count": null,
   "id": "65ef1a50-efc3-4948-8207-d844439af5d4",
   "metadata": {},
   "outputs": [],
   "source": []
  },
  {
   "cell_type": "code",
   "execution_count": null,
   "id": "d1f54c9c-1003-4d7d-839f-738e86d480d9",
   "metadata": {},
   "outputs": [],
   "source": []
  },
  {
   "cell_type": "code",
   "execution_count": null,
   "id": "e664f061-11ad-417f-ac9d-8d3afac3d58a",
   "metadata": {},
   "outputs": [],
   "source": []
  },
  {
   "cell_type": "code",
   "execution_count": null,
   "id": "1962e540-119d-43ae-b625-a0f5234ca1a5",
   "metadata": {},
   "outputs": [],
   "source": []
  },
  {
   "cell_type": "markdown",
   "id": "b6ffd3a2-6080-48a3-a9c1-036f4396bd74",
   "metadata": {},
   "source": [
    "The Sales Department is working remotely this week, and one of the sales reps is with a client in a restaurant. He's calling you from the restroom to see if you can search the product database for a Triumph or Ducati motorcycle. The sales rep is pretty sure he can secure the deal if you're willing to help him. Search the database for any productNames that contain \"Triumph\" or \"Ducati\" in the name. "
   ]
  },
  {
   "cell_type": "markdown",
   "id": "fad900cb-558e-4728-a324-f47d13b48e41",
   "metadata": {},
   "source": [
    "```sql\n",
    "SELECT productName from products\n",
    "WHERE productName LIKE '%Triumph%';\n",
    "```"
   ]
  },
  {
   "cell_type": "markdown",
   "id": "e01fc254-01ad-4b40-807d-c88529d5e390",
   "metadata": {},
   "source": [
    "```sql\n",
    "SELECT productName FROM products\n",
    "WHERE productName LIKE '%Triumph%' OR productName LIKE '%Ducati%';\n",
    "```\n"
   ]
  },
  {
   "cell_type": "markdown",
   "id": "45ee56cd-d500-4602-835c-ac62fced0f56",
   "metadata": {},
   "source": [
    "![Results](media/Triump-Ducati-Results.png)"
   ]
  },
  {
   "cell_type": "markdown",
   "id": "8ba98a4a-a685-493d-88cb-a22be9b68344",
   "metadata": {},
   "source": [
    "Using this logic, see if you can find a historic boat listed in the database. "
   ]
  },
  {
   "cell_type": "markdown",
   "id": "2a1c03a3-8406-4d59-a6ec-7ff0bd83beea",
   "metadata": {},
   "source": [
    "Use IN  to make that query neater and less repetitive. "
   ]
  },
  {
   "cell_type": "code",
   "execution_count": null,
   "id": "2a6e0cf9-03fe-40a5-a6a2-2f2f08a4ff3f",
   "metadata": {},
   "outputs": [],
   "source": []
  },
  {
   "cell_type": "markdown",
   "id": "ec939091-4bb3-4814-82fc-51ae4cfb6404",
   "metadata": {},
   "source": [
    "<hr style=\"height:10px;border-width:0;color:gray;background-color:teal\">\n",
    "\n",
    "# Page 9 - Quiz <a class=\"anchor\" id=\"BeyondSQL3_page_9\"></a>\n",
    "\n",
    "[Back to Top](#BeyondSQL3_toc)\n",
    "\n",
    "<hr style=\"height:10px;border-width:0;color: gray;background-color:teal\">"
   ]
  },
  {
   "cell_type": "code",
   "execution_count": 18,
   "id": "28a34fbf-538b-4d03-b3b3-94c014ff3b20",
   "metadata": {},
   "outputs": [],
   "source": [
    "try:\n",
    "    from DS_Students import *\n",
    "    from ipynb.fs.full.DS108ADVQuestions import *\n",
    "except:\n",
    "    !pip install DS_Students\n",
    "    from DS_Students import *\n",
    "    from ipynb.fs.full.DS108ADVQuestions import *"
   ]
  },
  {
   "cell_type": "code",
   "execution_count": 20,
   "id": "3b3b2bfe-a7aa-479c-80c6-2acb7228897d",
   "metadata": {},
   "outputs": [
    {
     "data": {
      "application/vnd.jupyter.widget-view+json": {
       "model_id": "1406e6c17f2e41f7b47f5803495778c8",
       "version_major": 2,
       "version_minor": 0
      },
      "text/plain": [
       "VBox(children=(Output(outputs=({'name': 'stdout', 'text': '\\x1b[1m1. Which entities do Data Analysts fulfill r…"
      ]
     },
     "metadata": {},
     "output_type": "display_data"
    },
    {
     "data": {
      "application/vnd.jupyter.widget-view+json": {
       "model_id": "2c10c133d6f74364a32cc8a1add16433",
       "version_major": 2,
       "version_minor": 0
      },
      "text/plain": [
       "VBox(children=(Output(outputs=({'name': 'stdout', 'text': '\\x1b[1m2. SQL queries will order rows as the databa…"
      ]
     },
     "metadata": {},
     "output_type": "display_data"
    },
    {
     "data": {
      "application/vnd.jupyter.widget-view+json": {
       "model_id": "6057df7b0da84690aff464925cf97c92",
       "version_major": 2,
       "version_minor": 0
      },
      "text/plain": [
       "VBox(children=(Output(outputs=({'name': 'stdout', 'text': '\\x1b[1m3. If ORDER BY is used, and no order sequenc…"
      ]
     },
     "metadata": {},
     "output_type": "display_data"
    },
    {
     "data": {
      "application/vnd.jupyter.widget-view+json": {
       "model_id": "673743062b954769a573640178392b95",
       "version_major": 2,
       "version_minor": 0
      },
      "text/plain": [
       "VBox(children=(Output(outputs=({'name': 'stdout', 'text': '\\x1b[1m4. The basic anatomy of a SQL query follows …"
      ]
     },
     "metadata": {},
     "output_type": "display_data"
    }
   ],
   "source": [
    "try:\n",
    "    display(L3P9Q1, L3P9Q2, L3P9Q3, L3P9Q4)\n",
    "except:\n",
    "    pass"
   ]
  },
  {
   "cell_type": "code",
   "execution_count": null,
   "id": "c25dac59-9d12-46af-af6b-32fbe89edeed",
   "metadata": {},
   "outputs": [],
   "source": []
  },
  {
   "cell_type": "code",
   "execution_count": null,
   "id": "c892a29f-85e4-4441-af4d-b70e03776700",
   "metadata": {},
   "outputs": [],
   "source": [
    "<hr style=\"height:10px;border-width:0;color:gray;background-color:teal\">\n",
    "\n",
    "# Page 10 -  <a class=\"anchor\" id=\"BeyondSQL3_page_3\"></a>\n",
    "\n",
    "[Back to Top](#BeyondSQL3_toc)\n",
    "\n",
    "<hr style=\"height:10px;border-width:0;color: gray;background-color:teal\">"
   ]
  },
  {
   "cell_type": "code",
   "execution_count": null,
   "id": "152a630b-121e-440d-a33e-7426ed4b70aa",
   "metadata": {},
   "outputs": [],
   "source": []
  },
  {
   "cell_type": "code",
   "execution_count": null,
   "id": "543dc4ce-43aa-4a75-921f-738b57259f90",
   "metadata": {},
   "outputs": [],
   "source": []
  },
  {
   "cell_type": "code",
   "execution_count": null,
   "id": "be5a8e93-ea5c-4e86-96ce-934f6eb90bee",
   "metadata": {},
   "outputs": [],
   "source": [
    "<hr style=\"height:10px;border-width:0;color:gray;background-color:teal\">\n",
    "\n",
    "# Page 11 -  <a class=\"anchor\" id=\"BeyondSQL3_page_3\"></a>\n",
    "\n",
    "[Back to Top](#BeyondSQL3_toc)\n",
    "\n",
    "<hr style=\"height:10px;border-width:0;color: gray;background-color:teal\">"
   ]
  }
 ],
 "metadata": {
  "kernelspec": {
   "display_name": "Python 3 (ipykernel)",
   "language": "python",
   "name": "python3"
  },
  "language_info": {
   "codemirror_mode": {
    "name": "ipython",
    "version": 3
   },
   "file_extension": ".py",
   "mimetype": "text/x-python",
   "name": "python",
   "nbconvert_exporter": "python",
   "pygments_lexer": "ipython3",
   "version": "3.10.4"
  }
 },
 "nbformat": 4,
 "nbformat_minor": 5
}
