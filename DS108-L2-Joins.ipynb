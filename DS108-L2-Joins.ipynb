{
 "cells": [
  {
   "cell_type": "markdown",
   "id": "5c0d4bbc",
   "metadata": {},
   "source": [
    "<hr style=\"height:10px;border-width:0;color:gray;background-color:darkcyan\">\n",
    "\n",
    "# Hands On Helper <a class=\"anchor\" id=\"DS108L2_page_1\"></a>\n",
    "\n",
    "\n",
    "<hr style=\"height:10px;border-width:0;color:gray;background-color:darkcyan\">"
   ]
  },
  {
   "cell_type": "markdown",
   "id": "0d3379c1",
   "metadata": {},
   "source": [
    "_Remember, when building a SQL query, first you list all the columns you're going to want returned in your results grid.  <br> Then you tell SQL which database(s) it will find the information in. <br> Next you list your JOIN statements, remembering that all of the information you want returned will be in the left table, which is the first table you list after FROM. The right table will be the second table you list. <br> Finally, you use WHERE or LIKE statements if you need to further filter your results._ "
   ]
  },
  {
   "cell_type": "markdown",
   "id": "788884b3",
   "metadata": {},
   "source": [
    "_It's standard practice to type your commands in all caps in SQL. That way they stand out._"
   ]
  },
  {
   "cell_type": "markdown",
   "id": "4da14811",
   "metadata": {},
   "source": [
    "## Run these queries inside your MySQL Workbench. "
   ]
  },
  {
   "cell_type": "markdown",
   "id": "0610fdaa",
   "metadata": {},
   "source": [
    "### 1. Write a query that finds the  first name, last name, customer ID and addresses of all customers."
   ]
  },
  {
   "cell_type": "markdown",
   "id": "a626d6d4",
   "metadata": {},
   "source": [
    "SELECT first_name, last_name, address, customer_id from sakila.customer <br>\n",
    "JOIN  sakila.address USING  (address_id);\n"
   ]
  },
  {
   "cell_type": "markdown",
   "id": "12f74df1",
   "metadata": {},
   "source": [
    "#### _Don't forget to finish your SQL statement with a semicolon. It's like a period in a sentence._ "
   ]
  },
  {
   "cell_type": "markdown",
   "id": "b6da772f",
   "metadata": {},
   "source": [
    "### 2. Write a query that finds all cities with an city_id < 100 <br>  _HINT:  \"all\" cities means an asterisk (or shift + 8).  You'll need to further filter that with a WHERE statement._ "
   ]
  },
  {
   "cell_type": "markdown",
   "id": "cb4b63ea",
   "metadata": {},
   "source": [
    "SELECT * from city <br>\n",
    "WHERE city_id < 100;\n"
   ]
  },
  {
   "cell_type": "markdown",
   "id": "b14cf2d8",
   "metadata": {},
   "source": [
    "### 3.\t Write a query that returns all first and last names, email addresses  from along with rental dates, even if that doesn’t exist for customer.  <br> \n",
    "\n",
    "#### _(Hint:  \"even if that doesn't exist\" signals an outer join, which will tell SQL to bring all the information over from the right table, even if there isn't a matching value in the left table.)_"
   ]
  },
  {
   "cell_type": "markdown",
   "id": "981f2ad1",
   "metadata": {},
   "source": [
    "#### 4.\t Write a query that list out names of customers who shopped at the stores in sakila – only customers whose last names start with  B, C, D, or E. <br>   "
   ]
  },
  {
   "cell_type": "markdown",
   "id": "d38df94d",
   "metadata": {},
   "source": [
    "#### _Hint: First you build what you want returned, then you get the tables you need, then you further filter with a WHERE statement. But this one has multiple!_"
   ]
  },
  {
   "cell_type": "markdown",
   "id": "d9cd4cbd",
   "metadata": {},
   "source": [
    "SELECT first_name, last_name FROM customer <br>\n",
    "JOIN store USING (store_id) <br>\n",
    "WHERE last_name LIKE 'b%' OR last_name LIKE 'c%' OR last_name LIKE 'd%' OR last_name LIKE 'e%';\n"
   ]
  },
  {
   "cell_type": "markdown",
   "id": "e62cd683",
   "metadata": {},
   "source": [
    "## PART 2"
   ]
  },
  {
   "cell_type": "markdown",
   "id": "432f0549",
   "metadata": {},
   "source": [
    "#### As a data analyst, your client would like to reorganize their inventory list of budget films.  They need a list of films available for rent for less than $ 4.99 so they can reorganize their store shelves. "
   ]
  },
  {
   "cell_type": "markdown",
   "id": "043f6dcd",
   "metadata": {},
   "source": [
    "SELECT * FROM sakila.inventory <br>\n",
    "JOIN sakila.rental USING (inventory_id) <br>\n",
    "JOIN sakila.payment USING (rental_id) <br>\n",
    "WHERE amount < 4.99;\n"
   ]
  },
  {
   "cell_type": "markdown",
   "id": "6955023f",
   "metadata": {},
   "source": [
    "<div class=\"panel panel-success\">\n",
    "    <div class=\"panel-heading\">\n",
    "        <h3 class=\"panel-title\">Fun Fact!</h3>\n",
    "    </div>\n",
    "    <div class=\"panel-body\">\n",
    "        <p>Different from the SELECT statement, which is used to query data, INSERT/UPDATE/DELETE/MERGE statement modifies data. </p>\n",
    "    </div>\n",
    "</div>"
   ]
  },
  {
   "cell_type": "code",
   "execution_count": null,
   "id": "94b4a5ac",
   "metadata": {},
   "outputs": [],
   "source": []
  }
 ],
 "metadata": {
  "kernelspec": {
   "display_name": "Python 3 (ipykernel)",
   "language": "python",
   "name": "python3"
  },
  "language_info": {
   "codemirror_mode": {
    "name": "ipython",
    "version": 3
   },
   "file_extension": ".py",
   "mimetype": "text/x-python",
   "name": "python",
   "nbconvert_exporter": "python",
   "pygments_lexer": "ipython3",
   "version": "3.10.4"
  }
 },
 "nbformat": 4,
 "nbformat_minor": 5
}
