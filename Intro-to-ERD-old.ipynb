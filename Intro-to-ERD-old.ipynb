{
 "cells": [
  {
   "cell_type": "markdown",
   "id": "07a4d609-606b-4b77-8adf-e4a8029c596c",
   "metadata": {},
   "source": [
    "### Table of Contents <a class=\"anchor\" id=\"BeyondSQL_toc\"></a>\n",
    "\n",
    "* [Table of Contents](#BeyondSQL_toc)\n",
    "    * [Page 1 - Introduction](#BeyondSQL_page_1)\n",
    "    * [Page 2 - What is an Entity Relationship Diagram?](#BeyondSQL_page_2)\n",
    "    * [Page 3 - What Kind of Relationships can ERDs Have?](#BeyondSQL_page_3)\n",
    "    * [Page 4 - How to Reverse Engineer an ERD](#BeyondSQL_page_4)\n",
    "    * [Page 5 - Other IDEs you can use to Query with SQL](#BeyondSQL_page_5)\n",
    "    * [Page 6 - Other Tips and Tricks in MySQL](#BeyondSQL_page_6)\n",
    "    * [Page 7 - Finding Documentation and Help in SQL](#BeyondSQL_page_7)\n",
    "    * [Page 8 - Comments](#BeyondSQL_page_8)\n",
    "    * [Page 9 - future](#BeyondSQL_page_9)\n",
    "    * [Page 10 - Key Terms](#BeyondSQL_page_10)\n",
    "    * [Page 11 - Lesson X Exam](#BeyondSQL_page_11)"
   ]
  },
  {
   "cell_type": "markdown",
   "id": "c936a254-65b8-4e53-a85f-fdcd24abb1c8",
   "metadata": {},
   "source": [
    "<hr style=\"height:10px;border-width:0;color:gray;background-color:teal\">\n",
    "\n",
    "# Page 1 - Introduction <a class=\"anchor\" id=\"BeyondSQL_page_1\"></a>\n",
    "\n",
    "[Back to Top](#BeyondSQL_toc)\n",
    "\n",
    "<hr style=\"height:10px;border-width:0;color: gray;background-color:teal\">"
   ]
  },
  {
   "cell_type": "markdown",
   "id": "4381cb6f-eb4f-4452-ad45-6bb981e8e4a5",
   "metadata": {},
   "source": [
    "So far you've learned basic queries in SQL. This portion goes beyond the basic queries you've learned. Now you'll learn more about filtering and returning more complex queries using a different database. "
   ]
  },
  {
   "cell_type": "markdown",
   "id": "04d8c594-58d6-49ca-ae3c-c166a67b6449",
   "metadata": {},
   "source": [
    "from IPython.display import VimeoVideo\n",
    "\n",
    "#Tutorial Video Name: future name here \n",
    "\n",
    "#VimeoVideo('0000', width=720, height=480)"
   ]
  },
  {
   "cell_type": "markdown",
   "id": "0ef69294-e0d1-4028-b9c5-2632a3201f1e",
   "metadata": {},
   "source": [
    "### Installing customers Database"
   ]
  },
  {
   "cell_type": "markdown",
   "id": "f57ef2c2-b90e-4b3e-9155-fbe091217c24",
   "metadata": {},
   "source": [
    "This course requires the sample database provided by MySQL called **classicmodels.**  Follow the steps below to complete the sample database installation:\n",
    "\n",
    "1. Download the file:\n",
    "    \n",
    "   *  **[classicmodels database](https://www.mysqltutorial.org/wp-content/uploads/2018/03/mysqlsampledatabase.zip)**\n",
    "   \n",
    "2.  (Mac only, Window users skip this step) Open the `XXXX Obtain filename for Macs` file once downloaded to extract the `classicmodels` folder.\n",
    "\n",
    "3.  Open `MySQL Workbench` from your Launchpad.\n",
    "\n",
    "4.  Click on the `Local instance 3306` button to connect to your MySQL service.\n",
    "\n",
    "5.  Enter your `root` user password (should be `Password1!` if you followed the installation steps earlier in the lesson)\n",
    "\n",
    "6.  Once the instance is open, click on the `File` menu and select `Open SQL Script`.\n",
    "\n",
    "7.  Navigate to and select the `classicmodels.sql` file.  \n",
    "\n",
    "8.  Execute the script by clicking on the lightning bolt icon toward the top of the screen, as shown in the image below:\n",
    "\n",
    "    ![Window for sakila-schema.sql. An arrow points to a lightning bolt in the upper left corner of the menu bar at the top of the screen.](media/RunSchemaSQL.png)\n",
    "\n",
    "9.  Once the schema script is complete, click on the refresh button next to the `Schemas` menu on the left and you should now see the `classicmodels` schema listed:\n",
    "\n",
    "    ![classicmodels schema menus. The files that are highlighted in the menu include tables, views, stored procedures, and functions.](media/SakilaSchemaRefresh.png)  \n",
    "\n",
    "10. At this point you do not yet have any data in the database so you must run the other SQL script that came in the `classicmodels` folder.  Click on the `File` menu, and select `Open SQL Script` again.\n",
    "\n",
    "11.  Navigate to and select the `mysqlsampledatabase.sql` file.\n",
    "\n",
    "12. Execute the script by once again clicking on the lightning bolt icon.  (Make sure the tab for `classicmodels` is currently open.)\n",
    "\n",
    "13. Under the Schemas menu on the left you can click on the `customers` table and select the `Select Rows - Limit 1000` option to run a query on the customers table and see the data:\n",
    "\n",
    "    ![Menu located inside the classicmodels schema tables folder. An arrow points to actor. Another popup menu is shown with the option select rows limit 1000 highlighted.](media/SelectActorRows.png)  \n",
    "\n",
    "If you see data in the Result Grid, then you're all set!\n",
    "\n",
    "\n",
    "    \n",
    "    "
   ]
  },
  {
   "cell_type": "markdown",
   "id": "bf9978cd-a93d-4053-822d-1c14bdb0210e",
   "metadata": {},
   "source": [
    "classicmodels is a messy little database. It has null values, it has mixed cases, it has commas strewn about.  Phone numbers and postal zip codes are in different formats.  You'll really hone your SQL data cleaning skills with this database! "
   ]
  },
  {
   "cell_type": "markdown",
   "id": "828aa1ec-1f03-47b4-b14c-714bb9b1129f",
   "metadata": {},
   "source": [
    "The **MySQL classicmodels sample database schema** consists of the following tables:\n",
    "\n",
    "**Customers:** stores customers' data.<br>\n",
    "**Products:** stores a list of scale model cars. <br>\n",
    "**ProductLines:** stores a list of product line categories.<br>\n",
    "**Orders:** stores sales orders placed by customers.<br>\n",
    "**OrderDetails:** stores sales order line items for each sales order.<br>\n",
    "**Payments:** stores payments made by customers based on their accounts.<br>\n",
    "**Employees:** stores all employee information as well as the organization structure such as who reports to whom.<br>\n",
    "**Offices:** stores sales office data.<br>\n"
   ]
  },
  {
   "cell_type": "markdown",
   "id": "a887ce1a-d367-42ec-8284-5bcd9731d5fa",
   "metadata": {},
   "source": [
    "Before you learn about classicmodels, let's first revisit familiar sakila, through its Entity Relationship Diagram. What's that? Read on, dear friend. "
   ]
  },
  {
   "cell_type": "markdown",
   "id": "5a78f9d9-2e10-4e37-855e-ee5d1cbe5355",
   "metadata": {},
   "source": [
    "<hr style=\"height:10px;border-width:0;color:gray;background-color:teal\">\n",
    "\n",
    "# Page  2- What is an Entity Relationship Diagram? <a class=\"anchor\" id=\"BeyondSQL_page_2\"></a>\n",
    "\n",
    "[Back to Top](#BeyondSQL_toc)\n",
    "\n",
    "<hr style=\"height:10px;border-width:0;color: gray;background-color:teal\">"
   ]
  },
  {
   "cell_type": "markdown",
   "id": "f40d7a86-d980-4ad2-9120-b6a3cfebf3d3",
   "metadata": {},
   "source": [
    "# ER Diagram"
   ]
  },
  {
   "cell_type": "markdown",
   "id": "11a178bf-15bf-4523-8e2b-9f21b6db36cd",
   "metadata": {},
   "source": [
    "An Entity Relationship Diagram, also known as ERD, ER Diagram or ER model, is the actual design blueprint of a relational database. It lays out the primary and foreign keys, and as such, the relationships between the tables...in sakila, for example. An ER diagram is a type of structural diagram for use in database design. An ER diagram contains different symbols and connectors that visualize two important pieces of information: The major categories, or entities within the system scope, and the relationships among these entities.\n",
    "\n",
    "That's how it gets its name: \"Entity\" \"Relationship\" diagram (ERD). \n",
    "\n",
    "When we talk about entities in ERD, very often we are referring to business objects like people or roles (like a student), tangible business objects (e.g. Product), intangible business objects (e.g. Log, EmployeeID, ProductID, DateTime, Price, etc.).\n",
    "\"Relationship\" is about how these entities relate to each other within the system. Your primary and foreign keys relate the different entities to each other. "
   ]
  },
  {
   "cell_type": "markdown",
   "id": "5a065dbd-b050-48d7-87a3-cba44577cf34",
   "metadata": {},
   "source": [
    " Remember the joins you did between tables with the keys? Behind the scenes, there was an ER Diagram that had laid out that relationship long before any data was populated in the database. Let's take a look at one. Here's a picture of an ERD for sakila, which you're familiar with:"
   ]
  },
  {
   "cell_type": "markdown",
   "id": "d1012f2c-ccdc-4bd6-b85f-a33445fbee80",
   "metadata": {},
   "source": [
    "![ER Diagram](media/ER-sakila.png)\n",
    "\n",
    "\n"
   ]
  },
  {
   "cell_type": "markdown",
   "id": "f738da17-2e23-4be0-9d9c-0cf8d691312e",
   "metadata": {},
   "source": [
    "On the left side, you'll see an overview of where you are in the diagram, with the blue boxes, and the black outlined box around your current view. In the main field, there's a gray bar on each table that says Indexes, with a dropdown triangle. If you drop down that option, as in the customer table, you'll see the primary and foreign keys for the table. Notice the dotted and solid lines connecting each table, and the symbols where the lines meet each table. "
   ]
  },
  {
   "cell_type": "markdown",
   "id": "8d003f83-f7c8-4060-8eec-08c23228e232",
   "metadata": {},
   "source": [
    "Notice in this picture how the orange lines stems from inventory and runs to several tables? It can be used to connect multiple tables.  This entity has two foreign keys: store_id and film_id. They're red, while primary key inventory_id is yellow. \n",
    "Smaller tables with a weaker relationship don't have a primary key, as film_actor. It exists solely as a middle man to connect some of the film tables. \n",
    "\n",
    "In the actual diagram you can hover over the solid or dashed lines between the tables and the colors will activate when you hover over, revealing a relationship between tables."
   ]
  },
  {
   "cell_type": "markdown",
   "id": "3aa82773-26e5-4a67-87ed-1f206c736814",
   "metadata": {},
   "source": [
    "![Picture of inventory_id highlighted lines between tables](media/inventory_id.png)"
   ]
  },
  {
   "cell_type": "markdown",
   "id": "6b3f0e94-8248-4495-bf50-4e81e8fb6bf0",
   "metadata": {},
   "source": [
    "<hr style=\"height:10px;border-width:0;color:gray;background-color:teal\">\n",
    "\n",
    "# Page 3 - What Kind of Relationships can ERDs Have? <a class=\"anchor\" id=\"BeyondSQL_page_3\"></a>\n",
    "\n",
    "[Back to Top](#BeyondSQL_toc)\n",
    "\n",
    "<hr style=\"height:10px;border-width:0;color: gray;background-color:teal\">"
   ]
  },
  {
   "cell_type": "markdown",
   "id": "f8c650ee-a65c-490d-8010-01febc08a134",
   "metadata": {},
   "source": [
    "### One to One"
   ]
  },
  {
   "cell_type": "markdown",
   "id": "c06be11d-c3ed-4265-8eaa-0c7beb915e45",
   "metadata": {},
   "source": [
    "An example is a student and a school-issued student ID card, or employee and employee ID number, or product and product ID. "
   ]
  },
  {
   "cell_type": "markdown",
   "id": "0fc13e95-d5c0-4a6c-b3bf-4d8908981da8",
   "metadata": {},
   "source": [
    "### One to Many"
   ]
  },
  {
   "cell_type": "markdown",
   "id": "94d19652-7f68-4f12-b090-34e07ef5b464",
   "metadata": {},
   "source": [
    "Some examples of many to many could be the product line for a chain of stores,  a database of books in a library, or students and classes in a university.\n",
    "\n",
    "Crowsfoot notation - like a pitchfork, can denote a one to many relationship, as with student to instructor, or student to course, as in this diagram:"
   ]
  },
  {
   "cell_type": "markdown",
   "id": "8a26d2cc-426e-4917-a419-6f9bb0d0c2bf",
   "metadata": {},
   "source": [
    "![One to Many](media/ER-one-to-many.png)\n",
    "\n"
   ]
  },
  {
   "cell_type": "markdown",
   "id": "4cdcb3f2-9e6c-46ac-8197-1acd906bd14c",
   "metadata": {},
   "source": [
    "<hr style=\"height:10px;border-width:0;color:gray;background-color:teal\">\n",
    "\n",
    "# Page  4- How to Reverse Engineer an ERD <a class=\"anchor\" id=\"BeyondSQL_page_4\"></a>\n",
    "\n",
    "[Back to Top](#BeyondSQL_toc)\n",
    "\n",
    "<hr style=\"height:10px;border-width:0;color: gray;background-color:teal\">"
   ]
  },
  {
   "cell_type": "markdown",
   "id": "b5551ca1-e71c-4618-93e0-60927130b081",
   "metadata": {},
   "source": [
    "If you'd like to view the ER Diagram for yourself, here's a video on how to reverse engineer an ERD from an existing database."
   ]
  },
  {
   "cell_type": "code",
   "execution_count": null,
   "id": "39befb58-c58a-4e9b-9e38-3c8af45033a4",
   "metadata": {},
   "outputs": [],
   "source": []
  },
  {
   "cell_type": "markdown",
   "id": "971c3a33-8fb4-4bc5-8c98-149919f63221",
   "metadata": {},
   "source": [
    "If you'd like to read more in depth about ER Diagrams, check out this [link.](https://www.visual-paradigm.com/guide/data-modeling/what-is-entity-relationship-diagram/;WWWSESSIONID=7AC60E43A8683AA8B37A9A087BFA4DD9.www1)"
   ]
  },
  {
   "cell_type": "markdown",
   "id": "d3bd6556-7128-41d4-a9b1-dc63559da212",
   "metadata": {},
   "source": [
    "<hr style=\"height:10px;border-width:0;color:gray;background-color:teal\">\n",
    "\n",
    "# Page 5 - Other IDEs you can use to Query with SQL <a class=\"anchor\" id=\"BeyondSQL_page_5\"></a>\n",
    "\n",
    "[Back to Top](#BeyondSQL_toc)\n",
    "\n",
    "<hr style=\"height:10px;border-width:0;color: gray;background-color:teal\">"
   ]
  },
  {
   "cell_type": "markdown",
   "id": "31d2c319-f446-4baa-8400-cd6f2f6374e1",
   "metadata": {},
   "source": [
    "An editor, also known as an IDE or integrated development environment, is software that allows developers or data analysts, or any coder, to write code. Sure, you can write code in the terminal, but an editor gives extra tools that make writing code easier.  It is a graphical user interface (GUI) that can include a text editor, terminal, debugging tools, and code snippets. Many IDEs include additional extensions and tools for specific programming languages. You may not have realized it, but Microsoft Word is an IDE, or editor for typing text files.  It gives you extra bells and whistles that aid in writing word documents.  \n",
    "\n",
    "There are several editors in which to write SQL queries. Some include Microsoft Azure, PostgreSQL and Microsoft SQL Server, to name a few."
   ]
  },
  {
   "cell_type": "markdown",
   "id": "66618870-d0dc-4fec-9fd0-ce51e5e85d51",
   "metadata": {},
   "source": [
    "![Microsoft Azure](media/azure-logo.png) ![Postgres](media/postgre-logo.png) ![Microsoft SQL-Server](media/sql-server.png)"
   ]
  },
  {
   "cell_type": "markdown",
   "id": "5386762b-2d9e-4144-a150-647a9a2d8eef",
   "metadata": {},
   "source": [
    "<hr style=\"height:10px;border-width:0;color:gray;background-color:teal\">\n",
    "\n",
    "# Page 6 - Other Tips and Tricks in MySQL <a class=\"anchor\" id=\"BeyondSQL_page_6\"></a>\n",
    "\n",
    "[Back to Top](#BeyondSQL_toc)\n",
    "\n",
    "<hr style=\"height:10px;border-width:0;color: gray;background-color:teal\">"
   ]
  },
  {
   "cell_type": "markdown",
   "id": "fd1b633c-4911-4be9-9a17-f2a9d0be38e2",
   "metadata": {},
   "source": [
    "# Tips with MySQL:\n",
    "    "
   ]
  },
  {
   "cell_type": "markdown",
   "id": "dbbcd943-b49d-4fd8-a9fe-01886657d6a1",
   "metadata": {},
   "source": [
    "- You can right-click on a line in the output pane and clear output. "
   ]
  },
  {
   "cell_type": "markdown",
   "id": "de9c00af-2d52-43b4-ae6f-a0ea785bf272",
   "metadata": {},
   "source": [
    "- You don't have to highlight and press the lightning bolt for a single line of code: you can press ctrl + enter on a Windows.  For a Mac, you press XXX"
   ]
  },
  {
   "cell_type": "code",
   "execution_count": null,
   "id": "b8e9bf57-8c73-4270-a391-29b28ceaf9fa",
   "metadata": {},
   "outputs": [],
   "source": []
  }
 ],
 "metadata": {
  "kernelspec": {
   "display_name": "Python 3 (ipykernel)",
   "language": "python",
   "name": "python3"
  },
  "language_info": {
   "codemirror_mode": {
    "name": "ipython",
    "version": 3
   },
   "file_extension": ".py",
   "mimetype": "text/x-python",
   "name": "python",
   "nbconvert_exporter": "python",
   "pygments_lexer": "ipython3",
   "version": "3.10.4"
  }
 },
 "nbformat": 4,
 "nbformat_minor": 5
}
